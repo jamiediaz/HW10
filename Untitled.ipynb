{
 "cells": [
  {
   "cell_type": "code",
   "execution_count": 7,
   "metadata": {},
   "outputs": [],
   "source": [
    "from bs4 import BeautifulSoup as bs\n",
    "import requests\n",
    "from splinter import Browser\n",
    "import time\n",
    "import pandas as pd\n",
    "import numpy as np\n"
   ]
  },
  {
   "cell_type": "code",
   "execution_count": 8,
   "metadata": {},
   "outputs": [],
   "source": [
    "executable_path = {'executable_path': 'C:/Users/jamie/Documents/chromedriver.exe'}\n",
    "browser = Browser('chrome', **executable_path, headless=False)"
   ]
  },
  {
   "cell_type": "code",
   "execution_count": 14,
   "metadata": {},
   "outputs": [],
   "source": [
    "def newNews():\n",
    "\n",
    "    url ='https://mars.nasa.gov/news/'\n",
    "    browser.visit(url)\n",
    "    news_title=[]\n",
    "    news_p=[]\n",
    "\n",
    "    html = browser.html\n",
    "\n",
    "    soup = bs(html, 'html.parser')\n",
    "\n",
    "    articles = soup.find_all('div', class_='image_and_description_container')\n",
    "    time.sleep(5)\n",
    "    try:\n",
    "        for article in articles:\n",
    "\n",
    "            # Use Beautiful Soup's find() method to navigate and retrieve attributes\n",
    "            h3 = article.find('h3').text\n",
    "            teaser = article.find('div',class_=\"article_teaser_body\").text\n",
    "            news_title.append(h3)\n",
    "            news_p.append(teaser)\n",
    "\n",
    "    except:\n",
    "        print(\"\\nScraping Complete\")\n",
    "\n",
    "    latest_news = [news_title[0],news_p[0]]\n",
    "    print(news_title[0])\n",
    "\n",
    "    return(latest_news)\n",
    "    "
   ]
  },
  {
   "cell_type": "code",
   "execution_count": 15,
   "metadata": {},
   "outputs": [
    {
     "name": "stdout",
     "output_type": "stream",
     "text": [
      "\n",
      "Scraping Complete\n",
      "NASA Invites Students to Name Mars 2020 Rover\n"
     ]
    },
    {
     "data": {
      "text/plain": [
       "['NASA Invites Students to Name Mars 2020 Rover',\n",
       " \"Through Nov. 1, K-12 students in the U.S. are encouraged to enter an essay contest to name NASA's next Mars rover.\"]"
      ]
     },
     "execution_count": 15,
     "metadata": {},
     "output_type": "execute_result"
    }
   ],
   "source": [
    "newNews()"
   ]
  },
  {
   "cell_type": "code",
   "execution_count": null,
   "metadata": {},
   "outputs": [],
   "source": []
  }
 ],
 "metadata": {
  "kernelspec": {
   "display_name": "Python 3",
   "language": "python",
   "name": "python3"
  },
  "language_info": {
   "codemirror_mode": {
    "name": "ipython",
    "version": 3
   },
   "file_extension": ".py",
   "mimetype": "text/x-python",
   "name": "python",
   "nbconvert_exporter": "python",
   "pygments_lexer": "ipython3",
   "version": "3.6.8"
  }
 },
 "nbformat": 4,
 "nbformat_minor": 2
}
