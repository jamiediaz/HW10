{
 "cells": [
  {
   "cell_type": "markdown",
   "metadata": {},
   "source": [
    "# Mission to Mars\n",
    "\n",
    "A webscraping assignment.  We will be gathering data from differnet websites using Beautiful Soup, Splinter, and Pandas. \n",
    "\n",
    "### Import Libraries"
   ]
  },
  {
   "cell_type": "code",
   "execution_count": 235,
   "metadata": {},
   "outputs": [],
   "source": [
    "from bs4 import BeautifulSoup as bs\n",
    "import requests\n",
    "from splinter import Browser\n",
    "import time\n",
    "import pandas as pd\n",
    "import numpy as np\n",
    "\n",
    "\n"
   ]
  },
  {
   "cell_type": "markdown",
   "metadata": {},
   "source": [
    "### Enable the chromedriver\n",
    "\n",
    "This is what Splinter will use to do an automated scraping of the websites below. "
   ]
  },
  {
   "cell_type": "code",
   "execution_count": 236,
   "metadata": {},
   "outputs": [],
   "source": [
    "executable_path = {'executable_path': 'C:/Users/jamie/Documents/chromedriver.exe'}\n",
    "browser = Browser('chrome', **executable_path, headless=False)"
   ]
  },
  {
   "cell_type": "markdown",
   "metadata": {},
   "source": [
    "### First site:  mars.nasa.gov/news/\n",
    "\n",
    "We're going to be gathering the headlines and teaser paragraph from the first page of the news page. <br>\n",
    "We are going to append the headlines and articles to a list so they can be used later on in the assignment. <br>\n",
    "We are also going to be printing out the list to display.  "
   ]
  },
  {
   "cell_type": "code",
   "execution_count": 237,
   "metadata": {},
   "outputs": [],
   "source": [
    "url ='https://mars.nasa.gov/news/'"
   ]
  },
  {
   "cell_type": "markdown",
   "metadata": {},
   "source": [
    "### Spinter will open up Chrome and go to the site\n"
   ]
  },
  {
   "cell_type": "code",
   "execution_count": 238,
   "metadata": {},
   "outputs": [],
   "source": [
    "browser.visit(url)"
   ]
  },
  {
   "cell_type": "markdown",
   "metadata": {},
   "source": [
    "### Empty lists are created here"
   ]
  },
  {
   "cell_type": "code",
   "execution_count": 239,
   "metadata": {},
   "outputs": [],
   "source": [
    "news_title=[]\n",
    "news_p=[]"
   ]
  },
  {
   "cell_type": "markdown",
   "metadata": {},
   "source": [
    "### Parse through the site\n",
    "\n",
    "Look for the <div> tag with the class:  image_and_description_container<br>\n",
    "<br>    \n",
    "Then loop through the articles and print them while at the same time store the articles and headlines into the lists. <br>"
   ]
  },
  {
   "cell_type": "code",
   "execution_count": 240,
   "metadata": {
    "scrolled": false
   },
   "outputs": [
    {
     "name": "stdout",
     "output_type": "stream",
     "text": [
      "\n",
      "\n",
      "-----------\n",
      "NASA Invites Students to Name Mars 2020 Rover\n",
      "\n",
      "\n",
      "Through Nov. 1, K-12 students in the U.S. are encouraged to enter an essay contest to name NASA's next Mars rover.\n",
      "\n",
      "\n",
      "-----------\n",
      "NASA's Mars Helicopter Attached to Mars 2020 Rover \n",
      "\n",
      "\n",
      "The helicopter will be first aircraft to perform flight tests on another planet.\n",
      "\n",
      "\n",
      "-----------\n",
      "What's Mars Solar Conjunction, and Why Does It Matter?\n",
      "\n",
      "\n",
      "NASA spacecraft at Mars are going to be on their own for a few weeks when the Sun comes between Mars and Earth, interrupting communications.\n",
      "\n",
      "\n",
      "-----------\n",
      "Scientists Explore Outback as Testbed for Mars \n",
      "\n",
      "\n",
      "Australia provides a great place for NASA's Mars 2020 and the ESA-Roscosmos ExoMars scientists to hone techniques in preparation for searching for signs ancient life on Mars.\n",
      "\n",
      "\n",
      "-----------\n",
      "NASA-JPL Names 'Rolling Stones Rock' on Mars\n",
      "\n",
      "\n",
      "NASA's Mars InSight mission honored one of the biggest bands of all time at Pasadena concert.\n",
      "\n",
      "\n",
      "-----------\n",
      "Robotic Toolkit Added to NASA's Mars 2020 Rover\n",
      "\n",
      "\n",
      "The bit carousel, which lies at the heart of the rover's Sample Caching System, is now aboard NASA's newest rover. \n",
      "\n",
      "\n",
      "-----------\n",
      "Space Samples Link NASA's Apollo 11 and Mars 2020\n",
      "\n",
      "\n",
      "While separated by half a century, NASA's Apollo 11 and Mars 2020 missions share the same historic goal: returning samples to Earth.\n",
      "\n",
      "\n",
      "-----------\n",
      "Small Satellite Mission of the Year\n",
      "\n",
      "\n",
      "The first interplanetary CubeSats were recognized by the engineering community with the 2019 Small Satellite Mission of the Year award.\n",
      "\n",
      "\n",
      "-----------\n",
      "NASA 'Optometrists' Verify Mars 2020 Rover's 20/20 Vision\n",
      "\n",
      "\n",
      "Mars 2020 rover underwent an eye exam after several cameras were installed on the rover.\n",
      "\n",
      "\n",
      "-----------\n",
      "New Finds for Mars Rover, Seven Years After Landing\n",
      "\n",
      "\n",
      "NASA's Curiosity rover is discovering odd rocks halfway into a region called the \"clay-bearing unit.\"\n",
      "\n",
      "\n",
      "-----------\n",
      "MEDLI2 Installation on Mars 2020 Aeroshell Begins\n",
      "\n",
      "\n",
      "Hardware installed onto NASA's Mars 2020 entry vehicle this week will help to increase the safety of future Mars landings.\n",
      "\n",
      "\n",
      "-----------\n",
      "NASA's Mars 2020 Rover Does Biceps Curls \n",
      "\n",
      "\n",
      "In this time-lapse video, the robotic arm on NASA's Mars 2020 rover maneuvers its 88-pound (40-kilogram) sensor-laden turret as it moves from a deployed to stowed configuration.\n",
      "\n",
      "\n",
      "-----------\n",
      "Fueling of NASA's Mars 2020 Rover Power System Begins\n",
      "\n",
      "\n",
      "NASA gives the go-ahead to fuel the Mars 2020 rover's Multi-Mission Radioisotope Thermoelectric Generator, which will power rover and help keep it warm while exploring Mars.\n",
      "\n",
      "\n",
      "-----------\n",
      "What Does a Marsquake Look Like?\n",
      "\n",
      "\n",
      "InSight scientists used a special \"shake room\" to demonstrate the differences between quakes on Earth, the Moon and Mars.\n",
      "\n",
      "\n",
      "-----------\n",
      "Mars 2020 Rover: T-Minus One Year and Counting \n",
      "\n",
      "\n",
      "The launch period for NASA's next rover, Mars 2020, opens exactly one year from today, July 17, 2020, and extends through Aug. 5, 2020.\n",
      "\n",
      "\n",
      "-----------\n",
      "NASA Racks Up Two Emmy Nominations for Mission Coverage\n",
      "\n",
      "\n",
      "JPL's coverage of the Mars InSight mission is among the efforts that will be up for an award in mid-September.\n",
      "\n",
      "\n",
      "-----------\n",
      "Want to Colonize Mars? Aerogel Could Help\n",
      "\n",
      "\n",
      "Researchers are studying whether a wonder material used in Mars rovers could help warm parts of the Red Planet rich in water ice.\n",
      "\n",
      "\n",
      "-----------\n",
      "A Rover Pit Stop at JPL\n",
      "\n",
      "\n",
      "Working like a finely honed machine, a team of engineers in this time-lapse video clip install test wheels on another finely honed machine: NASA's Mars 2020 rover.\n",
      "\n",
      "\n",
      "-----------\n",
      "Mars 2020 Rover Gets a Super Instrument\n",
      "\n",
      "\n",
      "With its rock-zapping laser, the SuperCam will enable the science team to identify the chemical and mineral makeup of its targets on the Red Planet.\n",
      "\n",
      "\n",
      "-----------\n",
      "A Neil Armstrong for Mars: Landing the Mars 2020 Rover\n",
      "\n",
      "\n",
      "NASA's newest rover will have an autopilot called Terrain-Relative Navigation.\n",
      "\n",
      "\n",
      "-----------\n",
      "NASA's InSight Uncovers the 'Mole' \n",
      "\n",
      "\n",
      "The lander's robotic arm has successfully removed a piece of hardware blocking the view of its digging device in order to help with recovery efforts.\n",
      "\n",
      "\n",
      "-----------\n",
      "Mars 2020 Rover's 7-Foot-Long Robotic Arm Installed\n",
      "\n",
      "\n",
      "The main robotic arm has been installed on NASA's newest rover. When complete, the arm will enable the rover to hold and use science tools like a human geologist would.\n",
      "\n",
      "\n",
      "-----------\n",
      "NASA Selects Partners for Mars 2020 'Name the Rover' Contest, Seeks Judges\n",
      "\n",
      "\n",
      "The contest for U.S. schoolchildren will open in fall 2019, but judges can sign up now.\n",
      "\n",
      "\n",
      "-----------\n",
      "Curiosity's Mars Methane Mystery Continues\n",
      "\n",
      "\n",
      "The Curiosity rover’s follow-on sampling shows last week’s methane levels have sharply decreased.\n",
      "\n",
      "\n",
      "-----------\n",
      "Mars 2020 Rover Gets Its Wheels\n",
      "\n",
      "\n",
      "With the mobility suspension in place, the rover not only looks more like a rover but has many of its 'big-ticket items' installed.\n",
      "\n",
      "\n",
      "-----------\n",
      "The Mast Is Raised for NASA's Mars 2020 Rover\n",
      "\n",
      "\n",
      "Engineers at JPL take a group selfie after attaching the remote sensing mast to the Mars 2020 rover.\n",
      "\n",
      "\n",
      "-----------\n",
      "NASA's Mars 2020 Will Blaze a Trail — for Humans\n",
      "\n",
      "\n",
      "The next robotic Mars mission will carry technology that will help enable astronauts to eventually explore the Red Planet.\n",
      "\n",
      "\n",
      "-----------\n",
      "Johnson-Built Device to Help Mars 2020 Rover Search for Signs of Life\n",
      "\n",
      "\n",
      "NASA’s Johnson Space Center (JSC) recently built a new calibration device for the rover to check SHERLOC’s function and properly tune it during the upcoming mission.\n",
      "\n",
      "\n",
      "-----------\n",
      "Watch NASA Build Its Next Mars Rover\n",
      "\n",
      "\n",
      "A newly installed webcam offers the public a live, bird's-eye view of NASA's Mars 2020 rover as it takes shape at NASA's Jet Propulsion Laboratory. \n",
      "\n",
      "\n",
      "-----------\n",
      "NASA's Mars Helicopter Testing Enters Final Phase\n",
      "\n",
      "\n",
      "NASA's Mars Helicopter flight demonstration project has passed a number of key tests with flying colors.\n",
      "\n",
      "\n",
      "-----------\n",
      "InSight's Team Tries New Strategy to Help the 'Mole'\n",
      "\n",
      "\n",
      "The spacecraft's robotic arm will lift the heat probe's support structure, providing a better look at the instrument that has been trying to burrow into the Martian surface.\n",
      "\n",
      "\n",
      "-----------\n",
      "Common Questions about InSight's 'Mole'\n",
      "\n",
      "\n",
      "There's a new plan to get InSight's \"mole\" moving again. The following Q&As with two members of the team answer some of the most common questions about the burrowing device, part of a science instrument called the Heat Flow and Physical Properties Package (HP3).\n",
      "\n",
      "\n",
      "-----------\n",
      "NASA's Curiosity Mars Rover Finds a Clay Cache\n",
      "\n",
      "\n",
      "The rover recently drilled two samples, and both showed the highest levels of clay ever found during the mission.\n",
      "\n",
      "\n",
      "-----------\n",
      "NASA to Land in Mars, Pennsylvania to Celebrate Red Planet with STEAM\n",
      "\n",
      "\n",
      "NASA returns to Mars, Pennsylvania Friday, May 31 to celebrate Mars exploration and share the agency’s excitement about landing astronauts on the Moon in five years.\n",
      "\n",
      "\n",
      "-----------\n",
      "NASA's Mars 2020 Gets a Dose of Space Here on Earth\n",
      "\n",
      "\n",
      "NASA's Mars 2020 spacecraft has completed tests that are the best Earthly approximations of what the spacecraft will endure during launch and interplanetary cruise.\n",
      "\n",
      "\n",
      "-----------\n",
      "NASA Invites Public to Submit Names to Fly Aboard Next Mars Rover\n",
      "\n",
      "\n",
      "From now till Sept. 30, the public can submit names to be stenciled on chips that will fly on the Mars 2020 rover and receive a souvenir boarding pass.\n",
      "\n",
      "\n",
      "-----------\n",
      "NASA's MRO Completes 60,000 Trips Around Mars\n",
      "\n",
      "\n",
      "The orbiting spacecraft is also about to set a record for data relayed from the Martian surface.\n",
      "\n",
      "\n",
      "-----------\n",
      "Video: Fly over Mount Sharp on Mars\n",
      "\n",
      "\n",
      "A new animation shows the region NASA's Curiosity rover is currently exploring and where its team wants to go in the future.\n",
      "\n",
      "\n",
      "-----------\n",
      "Why This Martian Full Moon Looks Like Candy\n",
      "\n",
      "\n",
      "For the first time, NASA's Mars Odyssey orbiter has caught the Martian moon Phobos during a full moon phase. Each color in this new image represents a temperature range detected by Odyssey's infrared camera.\n",
      "\n",
      "\n",
      "-----------\n",
      "For InSight, Dust Cleanings Will Yield New Science\n",
      "\n",
      "\n",
      "Wind can be crucial to clearing dust from spacecraft solar panels on Mars. With InSight's meteorological sensors, scientists get their first measurements of wind and dust interacting \"live\" on the Martian surface.  \n",
      "\n",
      "Scraping Complete\n"
     ]
    }
   ],
   "source": [
    "# HTML object\n",
    "html = browser.html\n",
    "# Parse HTML with Beautiful Soup\n",
    "soup = bs(html, 'html.parser')\n",
    "# Retrieve all elements that contain book information\n",
    "articles = soup.find_all('div', class_='image_and_description_container')\n",
    "time.sleep(5)\n",
    "\n",
    "\n",
    "\n",
    "try:\n",
    "    for article in articles:\n",
    "            \n",
    "        # Use Beautiful Soup's find() method to navigate and retrieve attributes\n",
    "        h3 = article.find('h3').text\n",
    "        teaser = article.find('div',class_=\"article_teaser_body\").text\n",
    "        news_title.append(h3)\n",
    "        news_p.append(teaser)\n",
    "        print(\"\\n\")\n",
    "        print('-----------')\n",
    "        print(h3)\n",
    "        print(\"\\n\")\n",
    "        print(teaser)\n",
    "\n",
    "\n",
    "        \n",
    "except:\n",
    "    print(\"\\nScraping Complete\")"
   ]
  },
  {
   "cell_type": "markdown",
   "metadata": {},
   "source": [
    "### Second site:  https://www.jpl.nasa.gov/spaceimages/?search=&category=Mars\n",
    "\n",
    "We want to get the URL for the current featured picture in the highest resolution. <br>\n",
    "We will look for the <article> tag and the class:  carousel_item  and also narrow it even futher with style. <br>\n",
    "This will return a partial address with extra bits of information. <br>\n",
    "    The truncate the results by stripping off:  \"background-image: url('  and  ');    from the results<br>\n",
    "We then append the results to the address:  jpl.nasa.gov\n",
    "<br>"
   ]
  },
  {
   "cell_type": "code",
   "execution_count": 241,
   "metadata": {},
   "outputs": [],
   "source": [
    "url = 'https://www.jpl.nasa.gov/spaceimages/?search=&category=Mars'"
   ]
  },
  {
   "cell_type": "code",
   "execution_count": 242,
   "metadata": {},
   "outputs": [],
   "source": [
    "browser.visit(url)"
   ]
  },
  {
   "cell_type": "code",
   "execution_count": 243,
   "metadata": {},
   "outputs": [
    {
     "data": {
      "text/plain": [
       "'https://jpl.nasa.gov/spaceimages/images/wallpaper/PIA17550-1920x1200.jpg'"
      ]
     },
     "execution_count": 243,
     "metadata": {},
     "output_type": "execute_result"
    }
   ],
   "source": [
    "html = browser.html\n",
    "# Parse HTML with Beautiful Soup\n",
    "soup = bs(html, 'html.parser')\n",
    "\n",
    "big_picture = soup.find(\"article\", class_=\"carousel_item\")['style']\n",
    "big_picture = big_picture.replace('background-image: url(', '').replace(');', '')\n",
    "big_picture = big_picture.replace(\"'\",\"\").replace(\"'\",\"\")\n",
    "featured_url = \"https://jpl.nasa.gov\" + big_picture\n",
    "featured_url\n",
    "\n",
    "\n"
   ]
  },
  {
   "cell_type": "markdown",
   "metadata": {},
   "source": [
    "### Third site: https://twitter.com/marswxreport?lang=en\n",
    "\n",
    "We want to get the latest mars weather tweet from mars.  <br>\n",
    "We use the .get_text function to filter for the ones with \"Insight sol\" in it. <br>\n",
    "We use [1] to pick the second to the second newest twitter post because that is the latest weather report <br>"
   ]
  },
  {
   "cell_type": "code",
   "execution_count": 244,
   "metadata": {},
   "outputs": [],
   "source": [
    "url = 'https://twitter.com/marswxreport?lang=en'"
   ]
  },
  {
   "cell_type": "code",
   "execution_count": 245,
   "metadata": {},
   "outputs": [],
   "source": [
    "browser.visit(url)"
   ]
  },
  {
   "cell_type": "code",
   "execution_count": 246,
   "metadata": {},
   "outputs": [],
   "source": [
    "html = browser.html\n",
    "# Parse HTML with Beautiful Soup\n",
    "soup = bs(html, 'html.parser')"
   ]
  },
  {
   "cell_type": "code",
   "execution_count": 247,
   "metadata": {},
   "outputs": [],
   "source": [
    "mars_weather = soup.find_all(\"p\", class_=\"tweet-text\")[1].get_text(\"InSight sol\")\n"
   ]
  },
  {
   "cell_type": "code",
   "execution_count": 248,
   "metadata": {},
   "outputs": [
    {
     "data": {
      "text/plain": [
       "'InSight sol 265 (2019-08-25) low -99.4ºC (-146.9ºF) high -26.3ºC (-15.3ºF)\\nwinds from the SSE at 5.3 m/s (12.0 mph) gusting to 16.1 m/s (35.9 mph)\\npressure at 7.50 hPaInSight solpic.twitter.com/9YLawm67zS'"
      ]
     },
     "execution_count": 248,
     "metadata": {},
     "output_type": "execute_result"
    }
   ],
   "source": [
    "mars_weather"
   ]
  },
  {
   "cell_type": "markdown",
   "metadata": {},
   "source": [
    "### Fourth site: https://space-facts.com/mars/\n",
    "\n",
    "We get extract the Mars facts from the page using Pandas <br>\n",
    "We then convert the table to a Pandas Datafram and then convert it to HTML format.  <br>"
   ]
  },
  {
   "cell_type": "code",
   "execution_count": 249,
   "metadata": {},
   "outputs": [
    {
     "data": {
      "text/html": [
       "<div>\n",
       "<style scoped>\n",
       "    .dataframe tbody tr th:only-of-type {\n",
       "        vertical-align: middle;\n",
       "    }\n",
       "\n",
       "    .dataframe tbody tr th {\n",
       "        vertical-align: top;\n",
       "    }\n",
       "\n",
       "    .dataframe thead th {\n",
       "        text-align: right;\n",
       "    }\n",
       "</style>\n",
       "<table border=\"1\" class=\"dataframe\">\n",
       "  <thead>\n",
       "    <tr style=\"text-align: right;\">\n",
       "      <th></th>\n",
       "      <th>0</th>\n",
       "      <th>1</th>\n",
       "    </tr>\n",
       "  </thead>\n",
       "  <tbody>\n",
       "    <tr>\n",
       "      <th>0</th>\n",
       "      <td>Equatorial Diameter:</td>\n",
       "      <td>6,792 km</td>\n",
       "    </tr>\n",
       "    <tr>\n",
       "      <th>1</th>\n",
       "      <td>Polar Diameter:</td>\n",
       "      <td>6,752 km</td>\n",
       "    </tr>\n",
       "    <tr>\n",
       "      <th>2</th>\n",
       "      <td>Mass:</td>\n",
       "      <td>6.39 × 10^23 kg (0.11 Earths)</td>\n",
       "    </tr>\n",
       "    <tr>\n",
       "      <th>3</th>\n",
       "      <td>Moons:</td>\n",
       "      <td>2 (Phobos &amp; Deimos)</td>\n",
       "    </tr>\n",
       "    <tr>\n",
       "      <th>4</th>\n",
       "      <td>Orbit Distance:</td>\n",
       "      <td>227,943,824 km (1.38 AU)</td>\n",
       "    </tr>\n",
       "    <tr>\n",
       "      <th>5</th>\n",
       "      <td>Orbit Period:</td>\n",
       "      <td>687 days (1.9 years)</td>\n",
       "    </tr>\n",
       "    <tr>\n",
       "      <th>6</th>\n",
       "      <td>Surface Temperature:</td>\n",
       "      <td>-87 to -5 °C</td>\n",
       "    </tr>\n",
       "    <tr>\n",
       "      <th>7</th>\n",
       "      <td>First Record:</td>\n",
       "      <td>2nd millennium BC</td>\n",
       "    </tr>\n",
       "    <tr>\n",
       "      <th>8</th>\n",
       "      <td>Recorded By:</td>\n",
       "      <td>Egyptian astronomers</td>\n",
       "    </tr>\n",
       "  </tbody>\n",
       "</table>\n",
       "</div>"
      ],
      "text/plain": [
       "                      0                              1\n",
       "0  Equatorial Diameter:                       6,792 km\n",
       "1       Polar Diameter:                       6,752 km\n",
       "2                 Mass:  6.39 × 10^23 kg (0.11 Earths)\n",
       "3                Moons:            2 (Phobos & Deimos)\n",
       "4       Orbit Distance:       227,943,824 km (1.38 AU)\n",
       "5         Orbit Period:           687 days (1.9 years)\n",
       "6  Surface Temperature:                   -87 to -5 °C\n",
       "7         First Record:              2nd millennium BC\n",
       "8          Recorded By:           Egyptian astronomers"
      ]
     },
     "execution_count": 249,
     "metadata": {},
     "output_type": "execute_result"
    }
   ],
   "source": [
    "res = requests.get(\"https://space-facts.com/mars/\")\n",
    "soup = bs(res.content,'lxml')\n",
    "table = soup.find_all('table')[1] \n",
    "mars_facts = pd.read_html(str(table))\n",
    "mars_facts_df = pd.DataFrame(mars_facts[0])\n",
    "mars_facts_df "
   ]
  },
  {
   "cell_type": "code",
   "execution_count": 250,
   "metadata": {},
   "outputs": [
    {
     "data": {
      "text/plain": [
       "'<table border=\"1\" class=\"dataframe\">\\n  <thead>\\n    <tr style=\"text-align: right;\">\\n      <th></th>\\n      <th>0</th>\\n      <th>1</th>\\n    </tr>\\n  </thead>\\n  <tbody>\\n    <tr>\\n      <th>0</th>\\n      <td>Equatorial Diameter:</td>\\n      <td>6,792 km</td>\\n    </tr>\\n    <tr>\\n      <th>1</th>\\n      <td>Polar Diameter:</td>\\n      <td>6,752 km</td>\\n    </tr>\\n    <tr>\\n      <th>2</th>\\n      <td>Mass:</td>\\n      <td>6.39 × 10^23 kg (0.11 Earths)</td>\\n    </tr>\\n    <tr>\\n      <th>3</th>\\n      <td>Moons:</td>\\n      <td>2 (Phobos &amp; Deimos)</td>\\n    </tr>\\n    <tr>\\n      <th>4</th>\\n      <td>Orbit Distance:</td>\\n      <td>227,943,824 km (1.38 AU)</td>\\n    </tr>\\n    <tr>\\n      <th>5</th>\\n      <td>Orbit Period:</td>\\n      <td>687 days (1.9 years)</td>\\n    </tr>\\n    <tr>\\n      <th>6</th>\\n      <td>Surface Temperature:</td>\\n      <td>-87 to -5 °C</td>\\n    </tr>\\n    <tr>\\n      <th>7</th>\\n      <td>First Record:</td>\\n      <td>2nd millennium BC</td>\\n    </tr>\\n    <tr>\\n      <th>8</th>\\n      <td>Recorded By:</td>\\n      <td>Egyptian astronomers</td>\\n    </tr>\\n  </tbody>\\n</table>'"
      ]
     },
     "execution_count": 250,
     "metadata": {},
     "output_type": "execute_result"
    }
   ],
   "source": [
    "mars_facts_df.to_html()\n"
   ]
  },
  {
   "cell_type": "code",
   "execution_count": null,
   "metadata": {},
   "outputs": [],
   "source": []
  }
 ],
 "metadata": {
  "kernelspec": {
   "display_name": "Python 3",
   "language": "python",
   "name": "python3"
  },
  "language_info": {
   "codemirror_mode": {
    "name": "ipython",
    "version": 3
   },
   "file_extension": ".py",
   "mimetype": "text/x-python",
   "name": "python",
   "nbconvert_exporter": "python",
   "pygments_lexer": "ipython3",
   "version": "3.6.8"
  }
 },
 "nbformat": 4,
 "nbformat_minor": 2
}
